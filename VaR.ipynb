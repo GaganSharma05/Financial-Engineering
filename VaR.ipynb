{
 "cells": [
  {
   "cell_type": "code",
   "execution_count": 1,
   "id": "adf5453c",
   "metadata": {},
   "outputs": [],
   "source": [
    "import pandas as pd\n",
    "import numpy as np\n",
    "from scipy import stats\n",
    "\n",
    "# Load the historical data\n",
    "df = pd.read_csv('historical_data.csv')\n",
    "\n",
    "# Calculate the daily returns\n",
    "returns = df['Close'].pct_change()\n",
    "\n",
    "# Assume that the returns are normally distributed\n",
    "returns_distribution = stats.norm(returns.mean(), returns.std())\n",
    "\n",
    "# Calculate the 1% and 5% worst-case returns\n",
    "VaR_1 = returns_distribution.ppf(0.01)\n",
    "VaR_5 = returns_distribution.ppf(0.05)\n",
    "\n",
    "# Calculate the 1% and 5% worst-case returns using the historical data\n",
    "VaR_1_historical = returns.quantile(0.01)\n",
    "VaR_5_historical = returns.quantile(0.05)\n",
    "\n",
    "# Print the VaR\n",
    "print(VaR_1, VaR_5, VaR_1_historical, VaR_5_historical)"
   ]
  },
  {
   "cell_type": "code",
   "execution_count": null,
   "id": "fd6e7096",
   "metadata": {},
   "outputs": [],
   "source": [
    "\n",
    "confidence_level = 0.95  # 95% confidence level\n",
    "z_score = stats.norm.ppf(confidence_level)  # Find the Z-score for the confidence level\n",
    "\n",
    "portfolio_value = 1000000  # Initial portfolio value\n",
    "mean_return = returns.mean()\n",
    "std_deviation = returns.std()\n",
    "\n",
    "# Calculate VaR using the normal distribution\n",
    "var = portfolio_value * (mean_return - z_score * std_deviation)"
   ]
  }
 ],
 "metadata": {
  "kernelspec": {
   "display_name": "Python 3 (ipykernel)",
   "language": "python",
   "name": "python3"
  },
  "language_info": {
   "codemirror_mode": {
    "name": "ipython",
    "version": 3
   },
   "file_extension": ".py",
   "mimetype": "text/x-python",
   "name": "python",
   "nbconvert_exporter": "python",
   "pygments_lexer": "ipython3",
   "version": "3.11.3"
  }
 },
 "nbformat": 4,
 "nbformat_minor": 5
}
